{
 "cells": [
  {
   "cell_type": "code",
   "execution_count": 47,
   "id": "93bbd70c",
   "metadata": {},
   "outputs": [],
   "source": [
    "import numpy as np\n",
    "from itertools import combinations\n",
    "\n",
    "def add_function(S_sub, y):\n",
    "    results = [np.sort(np.concatenate(([x],y))) for x in S_sub]\n",
    "    return np.array(results)\n",
    "\n",
    "def set_gamma_func_base(S, p):\n",
    "    set_gamma = {}\n",
    "\n",
    "    # set of gamma-\n",
    "    if len(S) == 0:\n",
    "        set_gamma[1] = None\n",
    "        set_gamma[2] = np.arange(0, p ).reshape(-1, 1)\n",
    "        set_gamma[3] = None\n",
    "\n",
    "    if len(S) == 1:\n",
    "        S_sub = np.setdiff1d(np.arange(0, p ), S)\n",
    "        set_gamma[1] = None\n",
    "        set_gamma[2] = add_function(S_sub, S)\n",
    "        set_gamma[3] = S_sub.reshape(-1, 1)\n",
    "\n",
    "    if len(S) > 1:\n",
    "        S_sub = np.setdiff1d(np.arange(0, p ), S)\n",
    "        S = np.sort(S)\n",
    "        set_gamma[1] = np.array(list(combinations(S, len(S) - 1)))\n",
    "        set_gamma[2] = add_function(S_sub, S)\n",
    "        xs = np.vstack([add_function(S_sub, row) for row in set_gamma[1]])\n",
    "        set_gamma[3] = xs\n",
    "\n",
    "    return set_gamma\n",
    "\n",
    "def set_gamma_func_conditional(input_S, condition_index, p):\n",
    "    set_gamma = {}\n",
    "    S = np.setdiff1d(input_S, condition_index)\n",
    "\n",
    "    # set of gamma-\n",
    "    if len(S) == 0:\n",
    "        S_sub = np.setdiff1d(np.arange(0, p), condition_index)\n",
    "        set_gamma[1] = None\n",
    "        set_gamma[2] = S_sub.reshape(-1, 1)\n",
    "        set_gamma[3] = None\n",
    "\n",
    "    if len(S) == 1:\n",
    "        S_sub = np.setdiff1d(np.arange(0, p), input_S)\n",
    "        set_gamma[1] = None\n",
    "        set_gamma[2] = add_function(S_sub, S)\n",
    "        set_gamma[3] = S_sub.reshape(-1, 1)\n",
    "\n",
    "    if len(S) > 1:\n",
    "        S_sub = np.setdiff1d(np.arange(0, p), input_S)\n",
    "        S = np.sort(S)\n",
    "        set_gamma[1] = np.array(list(combinations(S, len(S) - 1)))\n",
    "        set_gamma[2] = add_function(S_sub, S)\n",
    "        xs = np.vstack([add_function(S_sub, row) for row in set_gamma[1]])\n",
    "        set_gamma[3] = xs\n",
    "\n",
    "    return set_gamma\n",
    "\n",
    "def set_gamma_func(input_S, p, condition_index=None):\n",
    "    if condition_index is None:\n",
    "        results = set_gamma_func_base(input_S, p)\n",
    "    else:\n",
    "        results = set_gamma_func_conditional(input_S, condition_index, p)\n",
    "    return results\n",
    "\n",
    "def index_fun(x, p):\n",
    "    l = np.apply_along_axis(lambda row: ','.join(np.sort(row).astype(str)), axis=1, arr=x)\n",
    "    return l"
   ]
  },
  {
   "cell_type": "code",
   "execution_count": 48,
   "id": "bece7e37",
   "metadata": {},
   "outputs": [
    {
     "data": {
      "text/plain": [
       "{1: array([[0, 2, 3],\n",
       "        [0, 2, 4],\n",
       "        [0, 3, 4],\n",
       "        [2, 3, 4]]),\n",
       " 2: array([[0, 1, 2, 3, 4],\n",
       "        [0, 2, 3, 4, 5],\n",
       "        [0, 2, 3, 4, 6],\n",
       "        [0, 2, 3, 4, 7],\n",
       "        [0, 2, 3, 4, 8],\n",
       "        [0, 2, 3, 4, 9]]),\n",
       " 3: array([[0, 1, 2, 3],\n",
       "        [0, 2, 3, 5],\n",
       "        [0, 2, 3, 6],\n",
       "        [0, 2, 3, 7],\n",
       "        [0, 2, 3, 8],\n",
       "        [0, 2, 3, 9],\n",
       "        [0, 1, 2, 4],\n",
       "        [0, 2, 4, 5],\n",
       "        [0, 2, 4, 6],\n",
       "        [0, 2, 4, 7],\n",
       "        [0, 2, 4, 8],\n",
       "        [0, 2, 4, 9],\n",
       "        [0, 1, 3, 4],\n",
       "        [0, 3, 4, 5],\n",
       "        [0, 3, 4, 6],\n",
       "        [0, 3, 4, 7],\n",
       "        [0, 3, 4, 8],\n",
       "        [0, 3, 4, 9],\n",
       "        [1, 2, 3, 4],\n",
       "        [2, 3, 4, 5],\n",
       "        [2, 3, 4, 6],\n",
       "        [2, 3, 4, 7],\n",
       "        [2, 3, 4, 8],\n",
       "        [2, 3, 4, 9]])}"
      ]
     },
     "execution_count": 48,
     "metadata": {},
     "output_type": "execute_result"
    }
   ],
   "source": [
    "set_gamma_func_base(S=[0,2,3,4],p=10)"
   ]
  },
  {
   "cell_type": "code",
   "execution_count": 37,
   "id": "14d4d3a2",
   "metadata": {},
   "outputs": [
    {
     "data": {
      "text/plain": [
       "{1: array([[0],\n",
       "        [1]]),\n",
       " 2: array([[0, 1, 2],\n",
       "        [0, 1, 3],\n",
       "        [0, 1, 4],\n",
       "        [0, 1, 6],\n",
       "        [0, 1, 7],\n",
       "        [0, 1, 8],\n",
       "        [0, 1, 9]]),\n",
       " 3: array([[0, 2],\n",
       "        [0, 3],\n",
       "        [0, 4],\n",
       "        [0, 6],\n",
       "        [0, 7],\n",
       "        [0, 8],\n",
       "        [0, 9],\n",
       "        [1, 2],\n",
       "        [1, 3],\n",
       "        [1, 4],\n",
       "        [1, 6],\n",
       "        [1, 7],\n",
       "        [1, 8],\n",
       "        [1, 9]])}"
      ]
     },
     "execution_count": 37,
     "metadata": {},
     "output_type": "execute_result"
    }
   ],
   "source": [
    "set_gamma_func_conditional(input_S=[0,1,5], condition_index=[5], p=10)"
   ]
  },
  {
   "cell_type": "markdown",
   "id": "e396ad8f",
   "metadata": {},
   "source": [
    "set.gamma.func(c(1,2,6),6,10)\n",
    "[[1]]\n",
    "     [,1]\n",
    "[1,]    1\n",
    "[2,]    2\n",
    "\n",
    "[[2]]\n",
    "     [,1] [,2] [,3]\n",
    "[1,]    1    2    3\n",
    "[2,]    1    2    4\n",
    "[3,]    1    2    5\n",
    "[4,]    1    2    7\n",
    "[5,]    1    2    8\n",
    "[6,]    1    2    9\n",
    "[7,]    1    2   10\n",
    "\n",
    "[[3]]\n",
    "      [,1] [,2]\n",
    " [1,]    1    3\n",
    " [2,]    1    4\n",
    " [3,]    1    5\n",
    " [4,]    1    7\n",
    " [5,]    1    8\n",
    " [6,]    1    9\n",
    " [7,]    1   10\n",
    " [8,]    2    3\n",
    " [9,]    2    4\n",
    "[10,]    2    5\n",
    "[11,]    2    7\n",
    "[12,]    2    8\n",
    "[13,]    2    9\n",
    "[14,]    2   10"
   ]
  },
  {
   "cell_type": "code",
   "execution_count": 38,
   "id": "05e14e47",
   "metadata": {},
   "outputs": [
    {
     "data": {
      "text/plain": [
       "{1: array([[0],\n",
       "        [2]]),\n",
       " 2: array([[0, 1, 2],\n",
       "        [0, 2, 3],\n",
       "        [0, 2, 4],\n",
       "        [0, 2, 5],\n",
       "        [0, 2, 6],\n",
       "        [0, 2, 7],\n",
       "        [0, 2, 8],\n",
       "        [0, 2, 9]]),\n",
       " 3: array([[0, 1],\n",
       "        [0, 3],\n",
       "        [0, 4],\n",
       "        [0, 5],\n",
       "        [0, 6],\n",
       "        [0, 7],\n",
       "        [0, 8],\n",
       "        [0, 9],\n",
       "        [1, 2],\n",
       "        [2, 3],\n",
       "        [2, 4],\n",
       "        [2, 5],\n",
       "        [2, 6],\n",
       "        [2, 7],\n",
       "        [2, 8],\n",
       "        [2, 9]])}"
      ]
     },
     "execution_count": 38,
     "metadata": {},
     "output_type": "execute_result"
    }
   ],
   "source": [
    "set_gamma_func(input_S=[0,2],p=10)"
   ]
  },
  {
   "cell_type": "code",
   "execution_count": 39,
   "id": "73aa8ee8",
   "metadata": {},
   "outputs": [
    {
     "data": {
      "text/plain": [
       "{1: array([[0, 2, 3],\n",
       "        [0, 2, 4],\n",
       "        [0, 3, 4],\n",
       "        [2, 3, 4]]),\n",
       " 2: array([[0, 1, 2, 3, 4],\n",
       "        [0, 2, 3, 4, 5],\n",
       "        [0, 2, 3, 4, 6],\n",
       "        [0, 2, 3, 4, 7],\n",
       "        [0, 2, 3, 4, 8],\n",
       "        [0, 2, 3, 4, 9]]),\n",
       " 3: array([[0, 1, 2, 3],\n",
       "        [0, 2, 3, 5],\n",
       "        [0, 2, 3, 6],\n",
       "        [0, 2, 3, 7],\n",
       "        [0, 2, 3, 8],\n",
       "        [0, 2, 3, 9],\n",
       "        [0, 1, 2, 4],\n",
       "        [0, 2, 4, 5],\n",
       "        [0, 2, 4, 6],\n",
       "        [0, 2, 4, 7],\n",
       "        [0, 2, 4, 8],\n",
       "        [0, 2, 4, 9],\n",
       "        [0, 1, 3, 4],\n",
       "        [0, 3, 4, 5],\n",
       "        [0, 3, 4, 6],\n",
       "        [0, 3, 4, 7],\n",
       "        [0, 3, 4, 8],\n",
       "        [0, 3, 4, 9],\n",
       "        [1, 2, 3, 4],\n",
       "        [2, 3, 4, 5],\n",
       "        [2, 3, 4, 6],\n",
       "        [2, 3, 4, 7],\n",
       "        [2, 3, 4, 8],\n",
       "        [2, 3, 4, 9]])}"
      ]
     },
     "execution_count": 39,
     "metadata": {},
     "output_type": "execute_result"
    }
   ],
   "source": [
    "set_gamma_func(input_S=[0,2,3,4],p=10)"
   ]
  },
  {
   "cell_type": "code",
   "execution_count": 63,
   "id": "b23faf03",
   "metadata": {},
   "outputs": [],
   "source": [
    "l=set_gamma_func(input_S=[0, 1, 4, 5, 6, 8, 11, 16],condition_index=np.array([5,  6,  8, 11, 16, 17]),p=21)"
   ]
  },
  {
   "cell_type": "code",
   "execution_count": 66,
   "id": "110d7bf0",
   "metadata": {},
   "outputs": [
    {
     "data": {
      "text/plain": [
       "{1: array([[0, 1],\n",
       "        [0, 4],\n",
       "        [1, 4]]),\n",
       " 2: array([[ 0,  1,  2,  4],\n",
       "        [ 0,  1,  3,  4],\n",
       "        [ 0,  1,  4,  7],\n",
       "        [ 0,  1,  4,  9],\n",
       "        [ 0,  1,  4, 10],\n",
       "        [ 0,  1,  4, 12],\n",
       "        [ 0,  1,  4, 13],\n",
       "        [ 0,  1,  4, 14],\n",
       "        [ 0,  1,  4, 15],\n",
       "        [ 0,  1,  4, 17],\n",
       "        [ 0,  1,  4, 18],\n",
       "        [ 0,  1,  4, 19],\n",
       "        [ 0,  1,  4, 20]]),\n",
       " 3: array([[ 0,  1,  2],\n",
       "        [ 0,  1,  3],\n",
       "        [ 0,  1,  7],\n",
       "        [ 0,  1,  9],\n",
       "        [ 0,  1, 10],\n",
       "        [ 0,  1, 12],\n",
       "        [ 0,  1, 13],\n",
       "        [ 0,  1, 14],\n",
       "        [ 0,  1, 15],\n",
       "        [ 0,  1, 17],\n",
       "        [ 0,  1, 18],\n",
       "        [ 0,  1, 19],\n",
       "        [ 0,  1, 20],\n",
       "        [ 0,  2,  4],\n",
       "        [ 0,  3,  4],\n",
       "        [ 0,  4,  7],\n",
       "        [ 0,  4,  9],\n",
       "        [ 0,  4, 10],\n",
       "        [ 0,  4, 12],\n",
       "        [ 0,  4, 13],\n",
       "        [ 0,  4, 14],\n",
       "        [ 0,  4, 15],\n",
       "        [ 0,  4, 17],\n",
       "        [ 0,  4, 18],\n",
       "        [ 0,  4, 19],\n",
       "        [ 0,  4, 20],\n",
       "        [ 1,  2,  4],\n",
       "        [ 1,  3,  4],\n",
       "        [ 1,  4,  7],\n",
       "        [ 1,  4,  9],\n",
       "        [ 1,  4, 10],\n",
       "        [ 1,  4, 12],\n",
       "        [ 1,  4, 13],\n",
       "        [ 1,  4, 14],\n",
       "        [ 1,  4, 15],\n",
       "        [ 1,  4, 17],\n",
       "        [ 1,  4, 18],\n",
       "        [ 1,  4, 19],\n",
       "        [ 1,  4, 20]])}"
      ]
     },
     "execution_count": 66,
     "metadata": {},
     "output_type": "execute_result"
    }
   ],
   "source": [
    "set_gamma_func(input_S=[0, 1, 4, 5, 6, 8, 11, 16],condition_index=np.array([5,  6,  8, 11, 16, 17]),p=21)"
   ]
  },
  {
   "cell_type": "code",
   "execution_count": 44,
   "id": "65dfa192",
   "metadata": {},
   "outputs": [
    {
     "data": {
      "text/plain": [
       "array(['0,1', '0,2', '0,3', '0,4', '0,6', '0,7', '0,8', '0,9'],\n",
       "      dtype='<U3')"
      ]
     },
     "execution_count": 44,
     "metadata": {},
     "output_type": "execute_result"
    }
   ],
   "source": [
    "index_fun(l[2],p=10)"
   ]
  },
  {
   "cell_type": "code",
   "execution_count": null,
   "id": "159bf6ff",
   "metadata": {},
   "outputs": [],
   "source": []
  }
 ],
 "metadata": {
  "kernelspec": {
   "display_name": "Python 3 (ipykernel)",
   "language": "python",
   "name": "python3"
  },
  "language_info": {
   "codemirror_mode": {
    "name": "ipython",
    "version": 3
   },
   "file_extension": ".py",
   "mimetype": "text/x-python",
   "name": "python",
   "nbconvert_exporter": "python",
   "pygments_lexer": "ipython3",
   "version": "3.9.13"
  }
 },
 "nbformat": 4,
 "nbformat_minor": 5
}
