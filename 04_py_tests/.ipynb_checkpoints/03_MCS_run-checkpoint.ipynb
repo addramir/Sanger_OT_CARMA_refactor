{
 "cells": [
  {
   "cell_type": "code",
   "execution_count": 1,
   "id": "084c8c75",
   "metadata": {},
   "outputs": [],
   "source": [
    "import numpy as np\n",
    "import pandas as pd\n",
    "from math import floor\n",
    "from scipy.optimize import minimize_scalar\n",
    "from itertools import combinations"
   ]
  },
  {
   "cell_type": "code",
   "execution_count": 2,
   "id": "25ef9e37",
   "metadata": {},
   "outputs": [],
   "source": [
    "import numpy as np\n",
    "from scipy.linalg import inv, det, pinv\n",
    "from scipy.stats import multivariate_normal\n",
    "\n",
    "def ind_normal_sigma_fixed_marginal_fun_indi(zSigmaz_S, tau, p_S, det_S):\n",
    "    result = p_S / 2.0 * np.log(tau) - 0.5 * np.log(det_S) + zSigmaz_S / 2.0\n",
    "    return result\n",
    "\n",
    "def ind_Normal_fixed_sigma_marginal_external(index_vec_input, Sigma, z, tau, p_S, y_sigma):\n",
    "    index_vec = index_vec_input - 1\n",
    "    Sigma_S = Sigma[np.ix_(index_vec, index_vec)]\n",
    "    A = tau * np.eye(p_S)\n",
    "    \n",
    "    det_S = det(Sigma_S + A)\n",
    "    Sigma_S_inv = inv(Sigma_S + A)\n",
    "    \n",
    "    sub_z = z[index_vec]\n",
    "    zSigmaz_S = np.dot(sub_z.T, np.dot(Sigma_S_inv, sub_z))\n",
    "    \n",
    "    b = ind_normal_sigma_fixed_marginal_fun_indi(zSigmaz_S, tau, p_S, det_S)\n",
    "    \n",
    "    results = b\n",
    "    \n",
    "    return results\n",
    "\n",
    "\n",
    "def outlier_ind_Normal_marginal_external(index_vec_input, Sigma, z, tau, p_S, y_sigma):\n",
    "    index_vec = index_vec_input - 1\n",
    "    \n",
    "    Sigma_S = Sigma[np.ix_(index_vec, index_vec)]\n",
    "    A = tau * np.eye(p_S)\n",
    "    \n",
    "    Sigma_S_I_inv = pinv(Sigma_S + A, rtol=0.00001)\n",
    "    Sigma_S_inv = pinv(Sigma_S, rtol=0.00001)\n",
    "    \n",
    "    det_S = np.abs(det(Sigma_S_inv))\n",
    "    det_I_S = np.abs(det(Sigma_S_I_inv))\n",
    "    \n",
    "    sub_z = z[index_vec]\n",
    "    zSigmaz_S = np.dot(sub_z, np.dot(Sigma_S_inv, sub_z))\n",
    "    zSigmaz_I_S = np.dot(sub_z, np.dot(Sigma_S_I_inv, sub_z))\n",
    "    \n",
    "    b = 0.5 * (np.log(det_S) + np.log(det_I_S)) - 0.5 * (zSigmaz_S - zSigmaz_I_S)\n",
    "    results = b\n",
    "    \n",
    "    return results\n"
   ]
  },
  {
   "cell_type": "code",
   "execution_count": 3,
   "id": "bf5754b9",
   "metadata": {},
   "outputs": [],
   "source": [
    "def add_function(S_sub, y):\n",
    "    results = [np.sort(np.concatenate(([x],y))) for x in S_sub]\n",
    "    return np.array(results)\n",
    "\n",
    "def set_gamma_func_base(S, p):\n",
    "    set_gamma = {}\n",
    "\n",
    "    # set of gamma-\n",
    "    if len(S) == 0:\n",
    "        set_gamma[0] = None\n",
    "        set_gamma[1] = np.arange(0, p ).reshape(-1, 1)\n",
    "        set_gamma[2] = None\n",
    "\n",
    "    if len(S) == 1:\n",
    "        S_sub = np.setdiff1d(np.arange(0, p ), S)\n",
    "        set_gamma[0] = None\n",
    "        set_gamma[1] = add_function(S_sub, S)\n",
    "        set_gamma[2] = S_sub.reshape(-1, 1)\n",
    "\n",
    "    if len(S) > 1:\n",
    "        S_sub = np.setdiff1d(np.arange(0, p ), S)\n",
    "        S = np.sort(S)\n",
    "        set_gamma[0] = np.array(list(combinations(S, len(S) - 1)))\n",
    "        set_gamma[1] = add_function(S_sub, S)\n",
    "        xs = np.vstack([add_function(S_sub, row) for row in set_gamma[1]])\n",
    "        set_gamma[2] = xs\n",
    "\n",
    "    return set_gamma\n",
    "\n",
    "def set_gamma_func_conditional(input_S, condition_index, p):\n",
    "    set_gamma = {}\n",
    "    S = np.setdiff1d(input_S, condition_index)\n",
    "\n",
    "    # set of gamma-\n",
    "    if len(S) == 0:\n",
    "        S_sub = np.setdiff1d(np.arange(0, p), condition_index)\n",
    "        set_gamma[0] = None\n",
    "        set_gamma[1] = S_sub.reshape(-1, 1)\n",
    "        set_gamma[2] = None\n",
    "\n",
    "    if len(S) == 1:\n",
    "        S_sub = np.setdiff1d(np.arange(0, p), input_S)\n",
    "        set_gamma[0] = None\n",
    "        set_gamma[1] = add_function(S_sub, S)\n",
    "        set_gamma[2] = S_sub.reshape(-1, 1)\n",
    "\n",
    "    if len(S) > 1:\n",
    "        S_sub = np.setdiff1d(np.arange(0, p), input_S)\n",
    "        S = np.sort(S)\n",
    "        set_gamma[0] = np.array(list(combinations(S, len(S) - 1)))\n",
    "        set_gamma[1] = add_function(S_sub, S)\n",
    "        xs = np.vstack([add_function(S_sub, row) for row in set_gamma[0]])\n",
    "        set_gamma[2] = xs\n",
    "\n",
    "    return set_gamma\n",
    "\n",
    "def set_gamma_func(input_S, p, condition_index=None):\n",
    "    if condition_index is None:\n",
    "        results = set_gamma_func_base(input_S, p)\n",
    "    else:\n",
    "        results = set_gamma_func_conditional(input_S, condition_index, p)\n",
    "    return results\n",
    "\n",
    "def index_fun_internal(x):\n",
    "    y=np.sort(x)\n",
    "    y=y.astype(str)\n",
    "    l=','.join(y)\n",
    "    return l\n",
    "\n",
    "def index_fun(y):\n",
    "    l=np.array([index_fun_internal(x) for x in y])\n",
    "    return l"
   ]
  },
  {
   "cell_type": "code",
   "execution_count": 4,
   "id": "8868f430",
   "metadata": {},
   "outputs": [],
   "source": [
    "def ridge_fun(x, Sigma, modi_ld_S, test_S, z, outlier_tau):\n",
    "    temp_Sigma = Sigma.copy()\n",
    "    temp_ld_S = x * modi_ld_S + (1 - x) * np.eye(len(modi_ld_S))\n",
    "    temp_Sigma[np.ix_(test_S, test_S)] = temp_ld_S\n",
    "    l = outlier_likelihood(index_vec_input=test_S + 1, Sigma=temp_Sigma, z=z, tau=outlier_tau, p_S=len(test_S), y_sigma=1)\n",
    "    return -l\n",
    "\n",
    "def prior_dist(t, lambda_val, p):\n",
    "    l = t.split(\",\")\n",
    "    dim_model = len(l)\n",
    "    if t==\"\": dim_model=0\n",
    "    result = dim_model * np.log(lambda_val) + np.math.lgamma(p - dim_model+1) - np.math.lgamma(p+1)\n",
    "    return result"
   ]
  },
  {
   "cell_type": "code",
   "execution_count": null,
   "id": "6d9385a2",
   "metadata": {},
   "outputs": [],
   "source": []
  },
  {
   "cell_type": "code",
   "execution_count": 5,
   "id": "5525821d",
   "metadata": {},
   "outputs": [],
   "source": [
    "ld=pd.read_csv(\"../03_unit_R/01_test_ld.csv\",header=None)\n",
    "ld=np.array(ld)\n",
    "z=pd.read_csv(\"../03_unit_R/01_test_z.csv\")\n",
    "z=np.array(z.iloc[:,1])"
   ]
  },
  {
   "cell_type": "code",
   "execution_count": 6,
   "id": "751e01bc",
   "metadata": {},
   "outputs": [],
   "source": [
    "Max_Model_Dim=2e+5\n",
    "all_inner_iter=10\n",
    "epsilon_threshold=1e-5\n",
    "num_causal=10\n",
    "y_var=1\n",
    "tau=0.04\n",
    "outlier_switch=True\n",
    "outlier_BF_index=1/3.2\n",
    "\n",
    "\n",
    "z=z\n",
    "ld_matrix=ld\n",
    "epsilon=0.00021\n",
    "MaxModelDim=2.5e5\n",
    "lambda_ = 1\n",
    "outlier_switch=outlier_switch\n",
    "tau=tau\n",
    "num_causal = num_causal\n",
    "y_var=y_var\n",
    "inner_all_iter = all_inner_iter\n",
    "\n",
    "input_conditional_S_list = None"
   ]
  },
  {
   "cell_type": "code",
   "execution_count": 7,
   "id": "1ea8fecd",
   "metadata": {},
   "outputs": [],
   "source": [
    "p=len(z)\n",
    "marginal_likelihood = ind_Normal_fixed_sigma_marginal_external  # Assuming this function is defined elsewhere\n",
    "tau_sample = tau\n",
    "if (outlier_switch == True):  # Set this to False if not using outlier likelihood\n",
    "    outlier_likelihood = outlier_ind_Normal_marginal_external  # Assuming this function is defined elsewhere\n",
    "    outlier_tau = tau_sample\n",
    "\n",
    "B = Max_Model_Dim\n",
    "stored_bf = 0\n",
    "Sigma =ld_matrix\n",
    "\n",
    "S = []\n",
    "\n",
    "null_model = \"\"\n",
    "null_margin = prior_dist(null_model, lambda_val=lambda_, p=p)\n",
    "\n",
    "B_list = pd.DataFrame(\n",
    "    {'set_gamma_margin': [null_margin],\n",
    "    'matrix_gamma': [\"\"]})\n",
    "\n",
    "if input_conditional_S_list==None:\n",
    "    conditional_S=[]\n",
    "else:\n",
    "    conditional_S = input_conditional_S_list \n",
    "    S = conditional_S\n"
   ]
  },
  {
   "cell_type": "markdown",
   "id": "9de23203",
   "metadata": {},
   "source": [
    "#MAIN LOOP"
   ]
  },
  {
   "cell_type": "code",
   "execution_count": 8,
   "id": "128210d7",
   "metadata": {},
   "outputs": [],
   "source": [
    "h_ind=0\n",
    "ind_inner_iter=0\n",
    "for ind_inner_iter in range(0,inner_all_iter):\n",
    "    for h_ind in range(0,10):\n",
    "        set_gamma=set_gamma_func(input_S=S, p=p, condition_index=conditional_S) \n",
    "\n",
    "        if conditional_S is None:\n",
    "            working_S=S\n",
    "        else:\n",
    "            working_S = np.sort(np.setdiff1d(S, conditional_S)).astype(int)\n",
    "\n",
    "        set_gamma_margin = {}\n",
    "        set_gamma_prior = {}\n",
    "        matrix_gamma = {}\n",
    "\n",
    "        if len(working_S)!=0:\n",
    "            S_model = ','.join(np.sort(working_S).astype(int).astype(str))\n",
    "            p_S = len(working_S)\n",
    "            current_log_margin = marginal_likelihood(np.array(working_S)+1, Sigma, z, tau=tau_sample, p_S=p_S, y_sigma=y_var)+prior_dist(S_model, lambda_val=lambda_, p=p)\n",
    "        else:\n",
    "            current_log_margin = prior_dist(null_model, lambda_val=lambda_, p=p)\n",
    "\n",
    "        set_gamma_margin = [None,None,None]\n",
    "        set_gamma_prior = [None,None,None]\n",
    "        matrix_gamma = [None,None,None]\n",
    "\n",
    "        for i in range(0, len(set_gamma)):\n",
    "            if (set_gamma[i] is not None):\n",
    "                matrix_gamma[i]=index_fun(set_gamma[i])\n",
    "                p_S = set_gamma[i].shape[1]\n",
    "                set_gamma_margin[i]=np.apply_along_axis(marginal_likelihood, 1, set_gamma[i]+1, Sigma=Sigma, z=z, tau=tau_sample, p_S=p_S,\n",
    "                                        y_sigma=y_var)\n",
    "                set_gamma_prior[i]=np.array([prior_dist(model, lambda_val=lambda_, p=p) for model in matrix_gamma[i]])\n",
    "                set_gamma_margin[i] = set_gamma_prior[i] + set_gamma_margin[i]\n",
    "            else:\n",
    "                set_gamma_margin[i]=np.array(null_margin)\n",
    "                set_gamma_prior[i]=0\n",
    "                matrix_gamma[i]=np.array(null_model)\n",
    "\n",
    "        columns = ['set_gamma_margin', 'matrix_gamma']\n",
    "        add_B = pd.DataFrame(columns=columns)\n",
    "\n",
    "        for i in range(len(set_gamma)):\n",
    "            if type(set_gamma_margin[i].tolist())==list:\n",
    "                new_row = pd.DataFrame({'set_gamma_margin': set_gamma_margin[i].tolist(),\n",
    "                                'matrix_gamma': matrix_gamma[i].tolist()})\n",
    "                add_B = pd.concat([add_B, new_row], ignore_index=True)\n",
    "            else:\n",
    "                new_row = pd.DataFrame({'set_gamma_margin': [set_gamma_margin[i].tolist()],\n",
    "                                'matrix_gamma': [matrix_gamma[i].tolist()]})\n",
    "                add_B = pd.concat([add_B, new_row], ignore_index=True)\n",
    "\n",
    "\n",
    "        # Add visited models into the storage space of models\n",
    "        B_list = pd.concat([B_list, add_B], ignore_index=True)\n",
    "        B_list=B_list.drop_duplicates(subset='matrix_gamma',ignore_index=True)\n",
    "        B_list=B_list.sort_values(by='set_gamma_margin',ignore_index=True, ascending=False)\n",
    "\n",
    "        if len(working_S)==0:\n",
    "            # Create a DataFrame set.star\n",
    "            set_star = pd.DataFrame({\n",
    "                'set_index': [0, 1, 2],\n",
    "                'gamma_set_index': [np.nan, np.nan, np.nan],\n",
    "                'margin': [np.nan, np.nan, np.nan]\n",
    "            })\n",
    "\n",
    "            # Assuming set.gamma.margin and current.log.margin are defined\n",
    "            aa = set_gamma_margin[1]\n",
    "            aa = aa - aa[np.argmax(aa)]\n",
    "\n",
    "            min_half_len = min(len(aa), floor(p/2))\n",
    "            decr_ind=np.argsort(np.exp(aa))[::-1]\n",
    "            decr_half_ind=decr_ind[:min_half_len]\n",
    "\n",
    "            probs=np.exp(aa)[decr_half_ind]\n",
    "\n",
    "            chosen_index=np.random.choice(decr_half_ind, 1, p=probs/np.sum(probs))\n",
    "            set_star.at[1, 'gamma_set_index'] = chosen_index[0]\n",
    "            set_star.at[1, 'margin'] = set_gamma_margin[1][chosen_index[0]]\n",
    "\n",
    "            S = set_gamma[1][chosen_index[0]].tolist()\n",
    "\n",
    "        else:\n",
    "            set_star = pd.DataFrame({\n",
    "            'set_index': [0, 1, 2],\n",
    "            'gamma_set_index': [np.nan, np.nan, np.nan],\n",
    "            'margin': [np.nan, np.nan, np.nan]\n",
    "            })\n",
    "            for i in range(0,3):\n",
    "                aa = set_gamma_margin[i]\n",
    "                if np.size(aa)>1:\n",
    "                    aa = aa - aa[np.argmax(aa)]\n",
    "                    chosen_index = np.random.choice(range(0, np.size(set_gamma_margin[i])), 1, p=np.exp(aa)/np.sum(np.exp(aa)))\n",
    "                    set_star.at[i, 'gamma_set_index'] = chosen_index\n",
    "                    set_star.at[i, 'margin'] = set_gamma_margin[i][chosen_index]\n",
    "                else:\n",
    "                    chosen_index=0\n",
    "                    set_star.at[i, 'gamma_set_index'] = chosen_index\n",
    "                    set_star.at[i, 'margin'] = set_gamma_margin[i]\n",
    "\n",
    "            if outlier_switch:\n",
    "                for i in range(1, len(set_gamma)):\n",
    "                    test_log_BF=100\n",
    "                    while True:\n",
    "                        aa = set_gamma_margin[i]\n",
    "                        aa = aa - aa[np.argmax(aa)]\n",
    "                        chosen_index = np.random.choice(range(0, np.size(set_gamma_margin[i])), 1, p=np.exp(aa)/np.sum(np.exp(aa)))\n",
    "                        set_star.at[i, 'gamma_set_index'] = chosen_index\n",
    "                        set_star.at[i, 'margin'] = set_gamma_margin[i][chosen_index]\n",
    "\n",
    "                        test_S = set_gamma[i][int(chosen_index),:]\n",
    "\n",
    "                        modi_Sigma = Sigma.copy()\n",
    "                        temp_Sigma = Sigma.copy()\n",
    "                        if np.size(test_S) > 1:\n",
    "                            modi_ld_S = modi_Sigma[test_S][:,test_S]\n",
    "\n",
    "                            result =  minimize_scalar(ridge_fun, bounds=(0,1), args=(Sigma, modi_ld_S, test_S, z, outlier_tau), method='bounded')\n",
    "                            modi_ld_S = result.x * modi_ld_S + (1 - result.x) * np.eye(len(modi_ld_S))\n",
    "\n",
    "                            modi_Sigma[np.ix_(test_S,test_S)] = modi_ld_S\n",
    "\n",
    "                            test_log_BF=outlier_likelihood(test_S+1, Sigma, z, outlier_tau, len(test_S), 1) - outlier_likelihood(test_S+1, modi_Sigma, z, outlier_tau, len(test_S), 1)\n",
    "                            test_log_BF = -np.abs(test_log_BF)\n",
    "\n",
    "                        if np.exp(test_log_BF) < outlier_BF_index:\n",
    "                            set_gamma[i] = np.delete(set_gamma[i], int(set_star['gamma_set_index'][i]), axis=0)\n",
    "                            set_gamma_margin[i] = np.delete(set_gamma_margin[i], int(set_star['gamma_set_index'][i]), axis=0)\n",
    "                            conditional_S = np.concatenate([conditional_S, np.setdiff1d(test_S, working_S)])\n",
    "                            conditional_S = np.unique(conditional_S).astype(int).tolist()\n",
    "                        else:\n",
    "                            break\n",
    "\n",
    "\n",
    "            if len(working_S) == num_causal:\n",
    "                set_star = set_star.drop(1)\n",
    "                aa = set_star['margin']- max(set_star['margin'])\n",
    "                sec_sample = np.random.choice([0, 2], 1, p=np.exp(aa) / np.sum(np.exp(aa)))\n",
    "                ind_sec=int(set_star[\"gamma_set_index\"][set_star['set_index']==int(sec_sample)])\n",
    "                S=set_gamma[sec_sample[0]][ind_sec].tolist()\n",
    "            else:\n",
    "                aa = set_star['margin']- max(set_star['margin'])\n",
    "                sec_sample = np.random.choice(range(0, 3), 1, p=np.exp(aa) / np.sum(np.exp(aa)))\n",
    "                S=set_gamma[sec_sample[0]][int(set_star['gamma_set_index'][sec_sample[0]])].tolist()\n",
    "\n",
    "        for item in conditional_S:\n",
    "            if item not in S:\n",
    "                S.append(item)\n",
    "    #END h_ind loop\n",
    "    #\n",
    "    if conditional_S is not None:\n",
    "        all_c_index = []\n",
    "        l = [s.split(\",\") for s in B_list[\"matrix_gamma\"]]\n",
    "        for tt in conditional_S:\n",
    "            tt=str(tt)\n",
    "            ind = [i for i, sublist in enumerate(l) if tt in sublist]\n",
    "            all_c_index.extend(ind)\n",
    "\n",
    "        all_c_index = list(set(all_c_index))\n",
    "\n",
    "        if len(all_c_index) > 0:\n",
    "            temp_B_list = B_list.copy()\n",
    "            temp_B_list = B_list.drop(all_c_index)\n",
    "        else:\n",
    "            temp_B_list = B_list.copy()\n",
    "    else:\n",
    "        temp_B_list = B_list.copy()\n",
    "\n",
    "    result_B_list=temp_B_list=temp_B_list[:min(B, len(temp_B_list))]\n",
    "\n",
    "    rb1 = result_B_list[\"set_gamma_margin\"]\n",
    "\n",
    "    difference = abs(rb1[:(len(rb1)//4)].mean()-stored_bf)\n",
    "\n",
    "    if difference < epsilon:\n",
    "        break\n",
    "    else:\n",
    "        stored_bf = rb1[:(len(rb1)//4)].mean()\n",
    "\n",
    "    "
   ]
  },
  {
   "cell_type": "code",
   "execution_count": 9,
   "id": "05f1c4fd",
   "metadata": {},
   "outputs": [
    {
     "data": {
      "text/plain": [
       "[5]"
      ]
     },
     "execution_count": 9,
     "metadata": {},
     "output_type": "execute_result"
    }
   ],
   "source": [
    "conditional_S"
   ]
  },
  {
   "cell_type": "code",
   "execution_count": 10,
   "id": "e25b2dc1",
   "metadata": {},
   "outputs": [
    {
     "data": {
      "text/plain": [
       "[0, 3, 5]"
      ]
     },
     "execution_count": 10,
     "metadata": {},
     "output_type": "execute_result"
    }
   ],
   "source": [
    "S"
   ]
  },
  {
   "cell_type": "code",
   "execution_count": 11,
   "id": "e7a7ea18",
   "metadata": {},
   "outputs": [
    {
     "data": {
      "text/plain": [
       "array([0, 4])"
      ]
     },
     "execution_count": 11,
     "metadata": {},
     "output_type": "execute_result"
    }
   ],
   "source": [
    "working_S"
   ]
  },
  {
   "cell_type": "code",
   "execution_count": 12,
   "id": "3b068634",
   "metadata": {},
   "outputs": [
    {
     "data": {
      "text/plain": [
       "9"
      ]
     },
     "execution_count": 12,
     "metadata": {},
     "output_type": "execute_result"
    }
   ],
   "source": [
    "h_ind"
   ]
  },
  {
   "cell_type": "code",
   "execution_count": 13,
   "id": "820dba84",
   "metadata": {},
   "outputs": [
    {
     "data": {
      "text/plain": [
       "1"
      ]
     },
     "execution_count": 13,
     "metadata": {},
     "output_type": "execute_result"
    }
   ],
   "source": [
    "ind_inner_iter"
   ]
  },
  {
   "cell_type": "code",
   "execution_count": 14,
   "id": "04ab78e4",
   "metadata": {},
   "outputs": [
    {
     "data": {
      "text/plain": [
       "0.00021"
      ]
     },
     "execution_count": 14,
     "metadata": {},
     "output_type": "execute_result"
    }
   ],
   "source": [
    "epsilon"
   ]
  },
  {
   "cell_type": "code",
   "execution_count": 15,
   "id": "9ed71428",
   "metadata": {},
   "outputs": [
    {
     "data": {
      "text/plain": [
       "[5]"
      ]
     },
     "execution_count": 15,
     "metadata": {},
     "output_type": "execute_result"
    }
   ],
   "source": []
  }
 ],
 "metadata": {
  "kernelspec": {
   "display_name": "Python 3 (ipykernel)",
   "language": "python",
   "name": "python3"
  },
  "language_info": {
   "codemirror_mode": {
    "name": "ipython",
    "version": 3
   },
   "file_extension": ".py",
   "mimetype": "text/x-python",
   "name": "python",
   "nbconvert_exporter": "python",
   "pygments_lexer": "ipython3",
   "version": "3.9.13"
  }
 },
 "nbformat": 4,
 "nbformat_minor": 5
}
