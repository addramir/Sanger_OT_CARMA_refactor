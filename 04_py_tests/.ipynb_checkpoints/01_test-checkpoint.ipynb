{
 "cells": [
  {
   "cell_type": "code",
   "execution_count": 1,
   "id": "ea8a69eb",
   "metadata": {},
   "outputs": [
    {
     "ename": "ImportError",
     "evalue": "dlopen(/Users/yt4/Projects/Sanger_OT_CARMA_refactor/04_py_tests/ind_normal_carma.cpython-39-darwin.so, 0x0002): symbol not found in flat namespace '_wrapper2_ddot_'",
     "output_type": "error",
     "traceback": [
      "\u001b[0;31m---------------------------------------------------------------------------\u001b[0m",
      "\u001b[0;31mImportError\u001b[0m                               Traceback (most recent call last)",
      "\u001b[0;32m/var/folders/p5/4t9crp1563l792qz8xz_3x5h0000gq/T/ipykernel_79796/3848179029.py\u001b[0m in \u001b[0;36m<module>\u001b[0;34m\u001b[0m\n\u001b[0;32m----> 1\u001b[0;31m \u001b[0;32mimport\u001b[0m \u001b[0mind_normal_carma\u001b[0m\u001b[0;34m\u001b[0m\u001b[0;34m\u001b[0m\u001b[0m\n\u001b[0m",
      "\u001b[0;31mImportError\u001b[0m: dlopen(/Users/yt4/Projects/Sanger_OT_CARMA_refactor/04_py_tests/ind_normal_carma.cpython-39-darwin.so, 0x0002): symbol not found in flat namespace '_wrapper2_ddot_'"
     ]
    }
   ],
   "source": [
    "import ind_normal_carma"
   ]
  },
  {
   "cell_type": "code",
   "execution_count": 24,
   "id": "8b6ce15d",
   "metadata": {},
   "outputs": [],
   "source": [
    "path_to_src=\"/Users/yt4/Projects/Sanger_OT_CARMA_refactor/04_py_tests/\""
   ]
  },
  {
   "cell_type": "code",
   "execution_count": 12,
   "id": "1bc0fa0d",
   "metadata": {},
   "outputs": [
    {
     "name": "stderr",
     "output_type": "stream",
     "text": [
      "In file included from input_line_20:1:\n",
      "/Users/yt4/Projects/Sanger_OT_CARMA_refactor/04_py_tests/ind_Normal_fixed_sigma_marginal_external_py.h:5:10: fatal error: 'RcppArmadillo.h' file not found\n",
      "#include <RcppArmadillo.h>\n",
      "         ^~~~~~~~~~~~~~~~~\n"
     ]
    },
    {
     "ename": "ImportError",
     "evalue": "Failed to load header file \"/Users/yt4/Projects/Sanger_OT_CARMA_refactor/04_py_tests/ind_Normal_fixed_sigma_marginal_external_py.h\"",
     "output_type": "error",
     "traceback": [
      "\u001b[0;31m---------------------------------------------------------------------------\u001b[0m",
      "\u001b[0;31mImportError\u001b[0m                               Traceback (most recent call last)",
      "\u001b[0;32m/var/folders/p5/4t9crp1563l792qz8xz_3x5h0000gq/T/ipykernel_58270/2371393910.py\u001b[0m in \u001b[0;36m<module>\u001b[0;34m\u001b[0m\n\u001b[1;32m      3\u001b[0m \u001b[0;34m\u001b[0m\u001b[0m\n\u001b[1;32m      4\u001b[0m \u001b[0;31m# Load the C++ header file\u001b[0m\u001b[0;34m\u001b[0m\u001b[0;34m\u001b[0m\u001b[0m\n\u001b[0;32m----> 5\u001b[0;31m \u001b[0mcppyy\u001b[0m\u001b[0;34m.\u001b[0m\u001b[0minclude\u001b[0m\u001b[0;34m(\u001b[0m\u001b[0mpath_to_src\u001b[0m\u001b[0;34m+\u001b[0m\u001b[0;34m\"ind_Normal_fixed_sigma_marginal_external_py.h\"\u001b[0m\u001b[0;34m)\u001b[0m\u001b[0;34m\u001b[0m\u001b[0;34m\u001b[0m\u001b[0m\n\u001b[0m\u001b[1;32m      6\u001b[0m \u001b[0;34m\u001b[0m\u001b[0m\n\u001b[1;32m      7\u001b[0m \u001b[0;31m# Load the compiled C++ code\u001b[0m\u001b[0;34m\u001b[0m\u001b[0;34m\u001b[0m\u001b[0m\n",
      "\u001b[0;32m~/opt/anaconda3/lib/python3.9/site-packages/cppyy/__init__.py\u001b[0m in \u001b[0;36minclude\u001b[0;34m(header)\u001b[0m\n\u001b[1;32m    265\u001b[0m         \u001b[0merrcode\u001b[0m \u001b[0;34m=\u001b[0m \u001b[0mgbl\u001b[0m\u001b[0;34m.\u001b[0m\u001b[0mgInterpreter\u001b[0m\u001b[0;34m.\u001b[0m\u001b[0mDeclare\u001b[0m\u001b[0;34m(\u001b[0m\u001b[0;34m'#include \"%s\"'\u001b[0m \u001b[0;34m%\u001b[0m \u001b[0mheader\u001b[0m\u001b[0;34m)\u001b[0m\u001b[0;34m\u001b[0m\u001b[0;34m\u001b[0m\u001b[0m\n\u001b[1;32m    266\u001b[0m     \u001b[0;32mif\u001b[0m \u001b[0;32mnot\u001b[0m \u001b[0merrcode\u001b[0m\u001b[0;34m:\u001b[0m\u001b[0;34m\u001b[0m\u001b[0;34m\u001b[0m\u001b[0m\n\u001b[0;32m--> 267\u001b[0;31m         \u001b[0;32mraise\u001b[0m \u001b[0mImportError\u001b[0m\u001b[0;34m(\u001b[0m\u001b[0;34m'Failed to load header file \"%s\"%s'\u001b[0m \u001b[0;34m%\u001b[0m \u001b[0;34m(\u001b[0m\u001b[0mheader\u001b[0m\u001b[0;34m,\u001b[0m \u001b[0merr\u001b[0m\u001b[0;34m.\u001b[0m\u001b[0merr\u001b[0m\u001b[0;34m)\u001b[0m\u001b[0;34m)\u001b[0m\u001b[0;34m\u001b[0m\u001b[0;34m\u001b[0m\u001b[0m\n\u001b[0m\u001b[1;32m    268\u001b[0m     \u001b[0;32mreturn\u001b[0m \u001b[0;32mTrue\u001b[0m\u001b[0;34m\u001b[0m\u001b[0;34m\u001b[0m\u001b[0m\n\u001b[1;32m    269\u001b[0m \u001b[0;34m\u001b[0m\u001b[0m\n",
      "\u001b[0;31mImportError\u001b[0m: Failed to load header file \"/Users/yt4/Projects/Sanger_OT_CARMA_refactor/04_py_tests/ind_Normal_fixed_sigma_marginal_external_py.h\""
     ]
    }
   ],
   "source": [
    "# your_python_script.py\n",
    "import cppyy\n",
    "\n",
    "# Load the C++ header file\n",
    "cppyy.include(path_to_src+\"ind_Normal_fixed_sigma_marginal_external_py.h\")\n",
    "\n",
    "# Load the compiled C++ code\n",
    "cppyy.load_library(path_to_src+\"ind_Normal_fixed_sigma_marginal_external_py.cpp\")\n"
   ]
  },
  {
   "cell_type": "code",
   "execution_count": 6,
   "id": "7b5d4d78",
   "metadata": {},
   "outputs": [
    {
     "name": "stdout",
     "output_type": "stream",
     "text": [
      "-2.2430508102636506\n"
     ]
    }
   ],
   "source": [
    "import numpy as np\n",
    "from scipy.linalg import inv, det\n",
    "from scipy.stats import multivariate_normal\n",
    "\n",
    "def ind_normal_sigma_fixed_marginal_fun_indi(zSigmaz_S, tau, p_S, det_S):\n",
    "    result = p_S / 2.0 * np.log(tau) - 0.5 * np.log(det_S) + zSigmaz_S / 2.0\n",
    "    return result\n",
    "\n",
    "def ind_Normal_fixed_sigma_marginal_external(index_vec_input, Sigma, z, tau, p_S, y_sigma):\n",
    "    index_vec = index_vec_input - 1\n",
    "    Sigma_S = Sigma[np.ix_(index_vec, index_vec)]\n",
    "    A = tau * np.eye(p_S)\n",
    "    \n",
    "    det_S = det(Sigma_S + A)\n",
    "    Sigma_S_inv = inv(Sigma_S + A)\n",
    "    \n",
    "    sub_z = z[index_vec]\n",
    "    zSigmaz_S = np.dot(sub_z.T, np.dot(Sigma_S_inv, sub_z))\n",
    "    \n",
    "    b = ind_normal_sigma_fixed_marginal_fun_indi(zSigmaz_S, tau, p_S, det_S)\n",
    "    \n",
    "    results = b\n",
    "    \n",
    "    return results\n",
    "\n",
    "# Example usage\n",
    "index_vec_input = np.array([1, 2, 3])\n",
    "Sigma = np.array([[1, 0.5, 0.3], [0.5, 2, 0.7], [0.3, 0.7, 3]])\n",
    "z = np.array([0.1, 0.2, 0.3])\n",
    "tau = 0.5\n",
    "p_S = 3\n",
    "y_sigma = 1.0\n",
    "\n",
    "result = ind_Normal_fixed_sigma_marginal_external(index_vec_input, Sigma, z, tau, p_S, y_sigma)\n",
    "print(result)\n"
   ]
  },
  {
   "cell_type": "code",
   "execution_count": 9,
   "id": "9e81bde3",
   "metadata": {},
   "outputs": [
    {
     "name": "stdout",
     "output_type": "stream",
     "text": [
      "-2.2430508102636506\n"
     ]
    }
   ],
   "source": [
    "result = ind_Normal_fixed_sigma_marginal_external(index_vec_input, Sigma, z, tau, p_S, y_sigma)\n",
    "print(result)"
   ]
  },
  {
   "cell_type": "code",
   "execution_count": null,
   "id": "0baa980e",
   "metadata": {},
   "outputs": [],
   "source": []
  }
 ],
 "metadata": {
  "kernelspec": {
   "display_name": "Python 3 (ipykernel)",
   "language": "python",
   "name": "python3"
  },
  "language_info": {
   "codemirror_mode": {
    "name": "ipython",
    "version": 3
   },
   "file_extension": ".py",
   "mimetype": "text/x-python",
   "name": "python",
   "nbconvert_exporter": "python",
   "pygments_lexer": "ipython3",
   "version": "3.9.13"
  }
 },
 "nbformat": 4,
 "nbformat_minor": 5
}
