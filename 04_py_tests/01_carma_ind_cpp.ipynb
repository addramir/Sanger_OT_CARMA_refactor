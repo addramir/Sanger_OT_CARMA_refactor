{
 "cells": [
  {
   "cell_type": "code",
   "execution_count": 1,
   "id": "ea8a69eb",
   "metadata": {},
   "outputs": [],
   "source": [
    "import os\n",
    "os.chdir(\"/Users/yt4/Projects/Sanger_OT_CARMA_refactor/04_py_tests/\")\n",
    "import ind_normal_carma as inc"
   ]
  },
  {
   "cell_type": "code",
   "execution_count": 2,
   "id": "3f1993e8",
   "metadata": {},
   "outputs": [],
   "source": [
    "import numpy as np\n",
    "import pandas as pd"
   ]
  },
  {
   "cell_type": "code",
   "execution_count": 3,
   "id": "7b5d4d78",
   "metadata": {},
   "outputs": [],
   "source": [
    "import numpy as np\n",
    "from scipy.linalg import inv, det, pinv\n",
    "from scipy.stats import multivariate_normal\n",
    "\n",
    "def ind_normal_sigma_fixed_marginal_fun_indi(zSigmaz_S, tau, p_S, det_S):\n",
    "    result = p_S / 2.0 * np.log(tau) - 0.5 * np.log(det_S) + zSigmaz_S / 2.0\n",
    "    return result\n",
    "\n",
    "def ind_Normal_fixed_sigma_marginal_external(index_vec_input, Sigma, z, tau, p_S, y_sigma):\n",
    "    index_vec = index_vec_input - 1\n",
    "    Sigma_S = Sigma[np.ix_(index_vec, index_vec)]\n",
    "    A = tau * np.eye(p_S)\n",
    "    \n",
    "    det_S = det(Sigma_S + A)\n",
    "    Sigma_S_inv = inv(Sigma_S + A)\n",
    "    \n",
    "    sub_z = z[index_vec]\n",
    "    zSigmaz_S = np.dot(sub_z.T, np.dot(Sigma_S_inv, sub_z))\n",
    "    \n",
    "    b = ind_normal_sigma_fixed_marginal_fun_indi(zSigmaz_S, tau, p_S, det_S)\n",
    "    \n",
    "    results = b\n",
    "    \n",
    "    return results\n",
    "\n",
    "\n",
    "def outlier_ind_Normal_marginal_external(index_vec_input, Sigma, z, tau, p_S, y_sigma):\n",
    "    index_vec = index_vec_input - 1\n",
    "    \n",
    "    Sigma_S = Sigma[np.ix_(index_vec, index_vec)]\n",
    "    A = tau * np.eye(p_S)\n",
    "    \n",
    "    Sigma_S_I_inv = pinv(Sigma_S + A, rtol=0.00001)\n",
    "    Sigma_S_inv = pinv(Sigma_S, rtol=0.00001)\n",
    "    \n",
    "    det_S = np.abs(det(Sigma_S_inv))\n",
    "    det_I_S = np.abs(det(Sigma_S_I_inv))\n",
    "    \n",
    "    sub_z = z[index_vec]\n",
    "    zSigmaz_S = np.dot(sub_z, np.dot(Sigma_S_inv, sub_z))\n",
    "    zSigmaz_I_S = np.dot(sub_z, np.dot(Sigma_S_I_inv, sub_z))\n",
    "    \n",
    "    b = 0.5 * (np.log(det_S) + np.log(det_I_S)) - 0.5 * (zSigmaz_S - zSigmaz_I_S)\n",
    "    results = b\n",
    "    \n",
    "    return results\n"
   ]
  },
  {
   "cell_type": "code",
   "execution_count": 4,
   "id": "9e81bde3",
   "metadata": {},
   "outputs": [],
   "source": [
    "ld=pd.read_csv(\"../03_unit_R/01_test_ld.csv\",header=None)\n",
    "ld=np.array(ld)\n",
    "z=pd.read_csv(\"../03_unit_R/01_test_z.csv\")\n",
    "z=np.array(z.iloc[:,1])"
   ]
  },
  {
   "cell_type": "code",
   "execution_count": 5,
   "id": "0baa980e",
   "metadata": {},
   "outputs": [
    {
     "name": "stdout",
     "output_type": "stream",
     "text": [
      "[[1.         0.77118015 0.91509615]\n",
      " [0.77118015 1.         0.77727076]\n",
      " [0.91509615 0.77727076 1.        ]]\n",
      "[11.18048895 10.70915645 10.80476947]\n"
     ]
    }
   ],
   "source": [
    "print(ld[0:3,0:3])\n",
    "print(z[0:3])"
   ]
  },
  {
   "cell_type": "code",
   "execution_count": 6,
   "id": "6dba1035",
   "metadata": {},
   "outputs": [],
   "source": [
    "tau=0.04\n"
   ]
  },
  {
   "cell_type": "markdown",
   "id": "998ae5b0",
   "metadata": {},
   "source": [
    "sapply(1:21,marginal_likelihood,Sigma=Sigma,z=z,tau=tau.sample,p_S=p_S,y_sigma=y.var)\n",
    "\n",
    " [1] 58.46871 53.50847 54.49741 49.28342 51.05238 41.30903\n",
    " [7] 41.78784 41.97788 42.14209 40.36498 46.06594 49.23766\n",
    "[13] 49.07137 43.80280 48.61488 50.71029 32.90646 45.76242\n",
    "[19] 42.11671 34.12843 30.03864"
   ]
  },
  {
   "cell_type": "code",
   "execution_count": 7,
   "id": "fb7a5b19",
   "metadata": {},
   "outputs": [
    {
     "name": "stdout",
     "output_type": "stream",
     "text": [
      "41.30903380409506\n"
     ]
    }
   ],
   "source": [
    "index_vec_input=np.array([6])\n",
    "\n",
    "result = ind_Normal_fixed_sigma_marginal_external(index_vec_input=index_vec_input,\n",
    "                                                  Sigma=ld, z=z, tau=tau,\n",
    "                                                  p_S=len(index_vec_input), y_sigma=1)\n",
    "\n",
    "#result=[ind_Normal_fixed_sigma_marginal_external(index_vec_input=np.array(value),Sigma=ld, z=z, tau=tau,p_S=1, y_sigma=1) for value in range(1, 22)]\n",
    "print(result)"
   ]
  },
  {
   "cell_type": "markdown",
   "id": "48504c88",
   "metadata": {},
   "source": [
    "> v=c(1,6)\n",
    "> marginal_likelihood(v,Sigma=Sigma,z=z,tau=tau.sample,p_S=length(v),y_sigma=y.var)\n",
    "\n",
    "[1] 205.7185\n",
    "\n",
    "> v=c(1,6,7,8,9)\n",
    "> marginal_likelihood(v,Sigma=Sigma,z=z,tau=tau.sample,p_S=length(v),y_sigma=y.var)\n",
    "\n",
    "[1] 1483.368\n",
    "\n",
    "> v=c(1,6,7,8,9,21)\n",
    "> marginal_likelihood(v,Sigma=Sigma,z=z,tau=tau.sample,p_S=length(v),y_sigma=y.var)\n",
    "\n",
    "[1] 1524.997"
   ]
  },
  {
   "cell_type": "code",
   "execution_count": 8,
   "id": "75d62e9b",
   "metadata": {},
   "outputs": [
    {
     "name": "stdout",
     "output_type": "stream",
     "text": [
      "1524.9971355862983\n"
     ]
    }
   ],
   "source": [
    "index_vec_input=np.array([1,6,7,8,9,21])\n",
    "\n",
    "result = ind_Normal_fixed_sigma_marginal_external(index_vec_input=index_vec_input,\n",
    "                                                  Sigma=ld, z=z, tau=tau,\n",
    "                                                  p_S=len(index_vec_input), y_sigma=1)\n",
    "\n",
    "#result=[ind_Normal_fixed_sigma_marginal_external(index_vec_input=np.array(value),Sigma=ld, z=z, tau=tau,p_S=1, y_sigma=1) for value in range(1, 22)]\n",
    "print(result)\n"
   ]
  },
  {
   "cell_type": "code",
   "execution_count": 9,
   "id": "1ef338ae",
   "metadata": {},
   "outputs": [
    {
     "name": "stdout",
     "output_type": "stream",
     "text": [
      "-1787.5463353802081\n"
     ]
    }
   ],
   "source": [
    "index_vec_input=np.array([1,2,3,4,5,6,7,8,9,10])\n",
    "\n",
    "result = outlier_ind_Normal_marginal_external(index_vec_input=index_vec_input,\n",
    "                                                  Sigma=ld, z=z, tau=tau,\n",
    "                                                  p_S=len(index_vec_input), y_sigma=1)\n",
    "\n",
    "#result=[ind_Normal_fixed_sigma_marginal_external(index_vec_input=np.array(value),Sigma=ld, z=z, tau=tau,p_S=1, y_sigma=1) for value in range(1, 22)]\n",
    "print(result)"
   ]
  },
  {
   "cell_type": "code",
   "execution_count": 132,
   "id": "c270cf13",
   "metadata": {},
   "outputs": [],
   "source": [
    "ld=pd.read_csv(\"../03_unit_R/03_test_ld.csv\",header=None)\n",
    "ld=np.array(ld)\n",
    "z=pd.read_csv(\"../03_unit_R/03_test_z.csv\")\n",
    "z=np.array(z.iloc[:,1])"
   ]
  },
  {
   "cell_type": "code",
   "execution_count": 133,
   "id": "926bc2b6",
   "metadata": {},
   "outputs": [
    {
     "name": "stdout",
     "output_type": "stream",
     "text": [
      "7.929723333905908\n",
      "31.74225181689397\n"
     ]
    }
   ],
   "source": [
    "index_vec_input=np.array([1,2,3,4,5,6,7,8,9,10])\n",
    "\n",
    "\n",
    "\n",
    "result = outlier_ind_Normal_marginal_external(index_vec_input=index_vec_input,\n",
    "                                                  Sigma=ld, z=z, tau=tau,\n",
    "                                                  p_S=len(index_vec_input), y_sigma=1)\n",
    "print(result)\n",
    "\n",
    "result = ind_Normal_fixed_sigma_marginal_external(index_vec_input=index_vec_input,\n",
    "                                                  Sigma=ld, z=z, tau=tau,\n",
    "                                                  p_S=len(index_vec_input), y_sigma=1)\n",
    "\n",
    "#result=[ind_Normal_fixed_sigma_marginal_external(index_vec_input=np.array(value),Sigma=ld, z=z, tau=tau,p_S=1, y_sigma=1) for value in range(1, 22)]\n",
    "print(result)"
   ]
  },
  {
   "cell_type": "code",
   "execution_count": null,
   "id": "fd06fb0f",
   "metadata": {},
   "outputs": [],
   "source": []
  },
  {
   "cell_type": "code",
   "execution_count": null,
   "id": "42fdf037",
   "metadata": {},
   "outputs": [],
   "source": []
  }
 ],
 "metadata": {
  "kernelspec": {
   "display_name": "Python 3 (ipykernel)",
   "language": "python",
   "name": "python3"
  },
  "language_info": {
   "codemirror_mode": {
    "name": "ipython",
    "version": 3
   },
   "file_extension": ".py",
   "mimetype": "text/x-python",
   "name": "python",
   "nbconvert_exporter": "python",
   "pygments_lexer": "ipython3",
   "version": "3.9.13"
  }
 },
 "nbformat": 4,
 "nbformat_minor": 5
}
