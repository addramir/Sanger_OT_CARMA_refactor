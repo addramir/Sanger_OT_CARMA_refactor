{
 "cells": [
  {
   "cell_type": "code",
   "execution_count": 1,
   "id": "4c68f17a",
   "metadata": {},
   "outputs": [
    {
     "ename": "ImportError",
     "evalue": "dlopen(/Users/yt4/Projects/Sanger_OT_CARMA_refactor/04_py_tests/build/ind_normal_carma.cpython-39-darwin.so, 0x0002): symbol not found in flat namespace '_wrapper2_ddot_'",
     "output_type": "error",
     "traceback": [
      "\u001b[0;31m---------------------------------------------------------------------------\u001b[0m",
      "\u001b[0;31mImportError\u001b[0m                               Traceback (most recent call last)",
      "\u001b[0;32m/var/folders/p5/4t9crp1563l792qz8xz_3x5h0000gq/T/ipykernel_79821/3848179029.py\u001b[0m in \u001b[0;36m<module>\u001b[0;34m\u001b[0m\n\u001b[0;32m----> 1\u001b[0;31m \u001b[0;32mimport\u001b[0m \u001b[0mind_normal_carma\u001b[0m\u001b[0;34m\u001b[0m\u001b[0;34m\u001b[0m\u001b[0m\n\u001b[0m",
      "\u001b[0;31mImportError\u001b[0m: dlopen(/Users/yt4/Projects/Sanger_OT_CARMA_refactor/04_py_tests/build/ind_normal_carma.cpython-39-darwin.so, 0x0002): symbol not found in flat namespace '_wrapper2_ddot_'"
     ]
    }
   ],
   "source": [
    "import ind_normal_carma"
   ]
  },
  {
   "cell_type": "code",
   "execution_count": null,
   "id": "004bacce",
   "metadata": {},
   "outputs": [],
   "source": []
  }
 ],
 "metadata": {
  "kernelspec": {
   "display_name": "Python 3 (ipykernel)",
   "language": "python",
   "name": "python3"
  },
  "language_info": {
   "codemirror_mode": {
    "name": "ipython",
    "version": 3
   },
   "file_extension": ".py",
   "mimetype": "text/x-python",
   "name": "python",
   "nbconvert_exporter": "python",
   "pygments_lexer": "ipython3",
   "version": "3.9.13"
  }
 },
 "nbformat": 4,
 "nbformat_minor": 5
}
