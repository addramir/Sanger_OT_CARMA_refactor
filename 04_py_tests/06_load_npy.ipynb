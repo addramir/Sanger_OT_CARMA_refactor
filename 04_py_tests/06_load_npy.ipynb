{
 "cells": [
  {
   "cell_type": "code",
   "execution_count": 1,
   "id": "f6d663e8",
   "metadata": {},
   "outputs": [],
   "source": [
    "import numpy as np"
   ]
  },
  {
   "cell_type": "code",
   "execution_count": 2,
   "id": "fe46d88c",
   "metadata": {},
   "outputs": [],
   "source": [
    "ld=np.load(\"../03_unit_R/dc16_etl_finemapping_output_-1335409592772313897_ld.npy\")"
   ]
  },
  {
   "cell_type": "code",
   "execution_count": 5,
   "id": "3475cc0a",
   "metadata": {},
   "outputs": [
    {
     "data": {
      "text/plain": [
       "(3390, 3390)"
      ]
     },
     "execution_count": 5,
     "metadata": {},
     "output_type": "execute_result"
    }
   ],
   "source": [
    "ld.shape"
   ]
  },
  {
   "cell_type": "code",
   "execution_count": null,
   "id": "ae347031",
   "metadata": {},
   "outputs": [],
   "source": []
  }
 ],
 "metadata": {
  "kernelspec": {
   "display_name": "Python 3 (ipykernel)",
   "language": "python",
   "name": "python3"
  },
  "language_info": {
   "codemirror_mode": {
    "name": "ipython",
    "version": 3
   },
   "file_extension": ".py",
   "mimetype": "text/x-python",
   "name": "python",
   "nbconvert_exporter": "python",
   "pygments_lexer": "ipython3",
   "version": "3.9.13"
  }
 },
 "nbformat": 4,
 "nbformat_minor": 5
}
